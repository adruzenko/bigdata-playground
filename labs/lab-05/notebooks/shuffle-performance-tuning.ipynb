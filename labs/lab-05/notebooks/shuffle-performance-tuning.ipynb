{
 "cells": [
  {
   "cell_type": "code",
   "execution_count": null,
   "metadata": {},
   "outputs": [],
   "source": [
    "import pyspark\n",
    "from pyspark.sql import SparkSession\n",
    "\n",
    "# if you change congig do spark.stop (the last step) and then restart this\n",
    "\n",
    "sc_conf = pyspark.SparkConf()\n",
    "sc_conf.setAppName(\"spark-sample-app\")\n",
    "sc_conf.set('spark.executor.cores','1')\n",
    "sc_conf.set(\"spark.executor.memory\", '1g')\n",
    "#sc_conf.set(\"spark.sql.files.maxPartitionBytes\", '134217728 ')\n",
    "#sc_conf.set(\"spark.sql.shuffle.partitions\", '2')\n",
    "\n",
    "spark = SparkSession.builder.config(conf=sc_conf).getOrCreate()"
   ]
  },
  {
   "cell_type": "code",
   "execution_count": null,
   "metadata": {},
   "outputs": [],
   "source": [
    "def printRdd(df):\n",
    "       print(df.rdd.toDebugString().decode(\"utf-8\")) "
   ]
  },
  {
   "cell_type": "code",
   "execution_count": null,
   "metadata": {},
   "outputs": [],
   "source": [
    "df = spark.read.json(\"file:/bdpc/data/input/samples/lab05.json\")\n",
    "\n",
    "ids = df.select(df.data.id.alias(\"id\"))\n",
    "ids.show(5)\n",
    "\n",
    "ids.explain()\n",
    "\n",
    "printRdd(ids)"
   ]
  },
  {
   "cell_type": "code",
   "execution_count": null,
   "metadata": {},
   "outputs": [],
   "source": [
    "from pyspark.sql.functions import count\n",
    "\n",
    "groupingExpr = (ids.id).alias(\"group\")\n",
    "q = (ids\n",
    "     .groupBy(groupingExpr)\n",
    "     .agg(count(ids.id).alias(\"count\")))\n",
    "\n",
    "q.explain()\n",
    "\n",
    "printRdd(q)\n",
    "\n",
    "q.write.mode(\"overwrite\").json(\"/bdpc/data/lab05/json-id/\")"
   ]
  },
  {
   "cell_type": "code",
   "execution_count": null,
   "metadata": {},
   "outputs": [],
   "source": [
    "from pyspark.sql.functions import count\n",
    "\n",
    "groupingExpr = (ids.id).alias(\"group\")\n",
    "q = (ids\n",
    "     .repartition(groupingExpr)\n",
    "     .groupBy(groupingExpr)\n",
    "     .agg(count(ids.id).alias(\"count\")))\n",
    "\n",
    "q.explain()\n",
    "\n",
    "printRdd(q)\n",
    "\n",
    "q.write.mode(\"overwrite\").json(\"/bdpc/data/lab05/json-id/\")\n",
    "\n",
    "# hadoop fs -ls /bdpc/data/lab05/json-id/"
   ]
  },
  {
   "cell_type": "code",
   "execution_count": null,
   "metadata": {},
   "outputs": [],
   "source": [
    "from pyspark.sql.functions import count\n",
    "\n",
    "groupingExpr = (ids.id).alias(\"group\")\n",
    "q = (ids\n",
    "     .repartition(4, groupingExpr)\n",
    "     .groupBy(groupingExpr)\n",
    "     .agg(count(ids.id).alias(\"count\")))\n",
    "\n",
    "q.explain()\n",
    "\n",
    "printRdd(q)\n",
    "\n",
    "q.write.mode(\"overwrite\").json(\"/bdpc/data/lab05/json-id/\")\n",
    "\n",
    "# hadoop fs -ls /bdpc/data/lab05/json-id/"
   ]
  },
  {
   "cell_type": "code",
   "execution_count": null,
   "metadata": {},
   "outputs": [],
   "source": [
    "spark.stop()"
   ]
  }
 ],
 "metadata": {
  "kernelspec": {
   "display_name": "Python 3.6.9 (Spark)",
   "language": "python",
   "name": "python-3.6.9"
  },
  "language_info": {
   "codemirror_mode": {
    "name": "ipython",
    "version": 3
   },
   "file_extension": ".py",
   "mimetype": "text/x-python",
   "name": "python",
   "nbconvert_exporter": "python",
   "pygments_lexer": "ipython3",
   "version": "3.6.9"
  }
 },
 "nbformat": 4,
 "nbformat_minor": 2
}
