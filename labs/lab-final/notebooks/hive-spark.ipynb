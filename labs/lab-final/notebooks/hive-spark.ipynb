{
 "cells": [
  {
   "cell_type": "code",
   "execution_count": null,
   "metadata": {},
   "outputs": [],
   "source": [
    "import pyspark\n",
    "from pyspark.sql import SparkSession\n",
    "sc_conf = pyspark.SparkConf()\n",
    "sc_conf.setAppName(\"hive-spark-app\")\n",
    "sc_conf.set('spark.executor.cores','1')\n",
    "sc_conf.set(\"spark.executor.memory\", '1g')\n",
    "sc_conf.set('hive.metastore.uris', 'thrift://hive-metastore-01:9083')\n",
    "spark = (SparkSession.builder.config(conf=sc_conf)\n",
    "         .enableHiveSupport()\n",
    "         .getOrCreate())"
   ]
  },
  {
   "cell_type": "code",
   "execution_count": null,
   "metadata": {},
   "outputs": [],
   "source": [
    "spark.sql('show tables').show()"
   ]
  },
  {
   "cell_type": "code",
   "execution_count": null,
   "metadata": {},
   "outputs": [],
   "source": [
    "# DROP TABLE text_table;\n",
    "# CREATE TABLE text_table (key BIGINT, value STRING);\n",
    "# DESCRIBE FORMATTED text_table;\n",
    "\n",
    "text_table_name=\"text_table\"\n",
    "\n",
    "spark.table(text_table_name).show()"
   ]
  },
  {
   "cell_type": "code",
   "execution_count": null,
   "metadata": {},
   "outputs": [],
   "source": [
    "df = spark.read.json(\"file:/bdpc/data/input/samples/lab05.json\")\n",
    "df.select(df.data.id, df.channel).write.insertInto(\"text_table\")"
   ]
  },
  {
   "cell_type": "code",
   "execution_count": null,
   "metadata": {},
   "outputs": [],
   "source": [
    "# SELECT * FROM text_table LIMIT 5;\n",
    "\n",
    "text_table_name=\"text_table\"\n",
    "\n",
    "spark.catalog.refreshTable(text_table_name)\n",
    "dftext = spark.table(text_table_name)\n",
    "print(dftext.count())\n",
    "dftext.show(5)\n",
    "dftext.explain()"
   ]
  },
  {
   "cell_type": "code",
   "execution_count": null,
   "metadata": {},
   "outputs": [],
   "source": [
    "# CREATE TABLE parquet_table (x BIGINT, y STRING) stored as parquet;\n",
    "# DESCRIBE FORMATTED parquet_table;\n",
    "\n",
    "parquet_table_name=\"parquet_table\"\n",
    "\n",
    "df = spark.read.json(\"file:/bdpc/data/input/samples/lab05.json\")\n",
    "dfpt = df.select(df.data.id.alias(\"x\"), df.channel.alias(\"y\"))\n",
    "dfpt.printSchema()\n",
    "dfpt.show(5)\n",
    "dfpt.write.format(\"hive\").mode(\"append\").saveAsTable(parquet_table_name)\n",
    "#dfpt.write.insertInto(parquet_table_name)"
   ]
  },
  {
   "cell_type": "code",
   "execution_count": null,
   "metadata": {},
   "outputs": [],
   "source": [
    "# SELECT * FROM parquet_table LIMIT 5;\n",
    "\n",
    "parquet_table_name=\"parquet_table\"\n",
    "\n",
    "spark.catalog.refreshTable(parquet_table_name)\n",
    "dfp = spark.table(parquet_table_name)\n",
    "print(dfp.count())\n",
    "dfp.printSchema()\n",
    "dfp.show(5)\n",
    "dfp.explain()"
   ]
  }
 ],
 "metadata": {
  "kernelspec": {
   "display_name": "Python 3.6.9 (Spark)",
   "language": "python",
   "name": "python-3.6.9"
  },
  "language_info": {
   "codemirror_mode": {
    "name": "ipython",
    "version": 3
   },
   "file_extension": ".py",
   "mimetype": "text/x-python",
   "name": "python",
   "nbconvert_exporter": "python",
   "pygments_lexer": "ipython3",
   "version": "3.6.9"
  }
 },
 "nbformat": 4,
 "nbformat_minor": 2
}
